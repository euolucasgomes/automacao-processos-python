{
 "cells": [
  {
   "cell_type": "markdown",
   "metadata": {},
   "source": [
    "### Bloco 1: Importação de bibliotecas"
   ]
  },
  {
   "cell_type": "code",
   "execution_count": null,
   "metadata": {},
   "outputs": [],
   "source": [
    "from selenium import webdriver\n",
    "from selenium.webdriver.chrome.service import Service\n",
    "from selenium.webdriver.chrome.options import Options\n",
    "from selenium.webdriver.common.by import By\n",
    "from selenium.webdriver.support.ui import WebDriverWait\n",
    "from selenium.webdriver.support import expected_conditions as EC\n",
    "from webdriver_manager.chrome import ChromeDriverManager\n",
    "import datetime\n",
    "import time\n",
    "\n",
    "print(\"Bibliotecas importadas com sucesso!\")"
   ]
  },
  {
   "cell_type": "markdown",
   "metadata": {},
   "source": [
    "### Bloco 2: Inicialização do WebDriver"
   ]
  },
  {
   "cell_type": "code",
   "execution_count": null,
   "metadata": {},
   "outputs": [],
   "source": [
    "options = Options()\n",
    "options.add_argument(\"--start-maximized\")  # Abre o navegador maximizado\n",
    "service = Service(ChromeDriverManager().install())  # Instala o driver automaticamente\n",
    "driver = webdriver.Chrome(service=service, options=options)\n",
    "print(\"WebDriver inicializado com sucesso!\")"
   ]
  },
  {
   "cell_type": "markdown",
   "metadata": {},
   "source": [
    "### Bloco 3: Função de login"
   ]
  },
  {
   "cell_type": "code",
   "execution_count": null,
   "metadata": {},
   "outputs": [],
   "source": [
    "def realizar_login(driver, email, password):\n",
    "    \"\"\"\n",
    "    Realiza o login no Hostinger Mail.\n",
    "    \"\"\"\n",
    "    try:\n",
    "        print(\"Abrindo a página de login...\")\n",
    "        driver.get(\"https://mail.hostinger.com\")\n",
    "\n",
    "        email_field = WebDriverWait(driver, 20).until(\n",
    "            EC.visibility_of_element_located((By.NAME, \"_user\"))\n",
    "        )\n",
    "        email_field.send_keys(email)\n",
    "\n",
    "        password_field = WebDriverWait(driver, 20).until(\n",
    "            EC.visibility_of_element_located((By.NAME, \"_pass\"))\n",
    "        )\n",
    "        password_field.send_keys(password)\n",
    "\n",
    "        login_button = WebDriverWait(driver, 20).until(\n",
    "            EC.element_to_be_clickable((By.XPATH, \"//button[@type='submit']\"))\n",
    "        )\n",
    "        login_button.click()\n",
    "\n",
    "        WebDriverWait(driver, 20).until(\n",
    "            EC.url_changes(\"https://mail.hostinger.com\")\n",
    "        )\n",
    "        print(\"Login realizado com sucesso!\")\n",
    "    except Exception as e:\n",
    "        print(f\"Erro durante o login: {e}\")\n",
    "\n",
    "realizar_login(driver, \"xxx\", \"xxx\")"
   ]
  },
  {
   "cell_type": "markdown",
   "metadata": {},
   "source": [
    "### Bloco 4: Função para clicar na pasta"
   ]
  },
  {
   "cell_type": "code",
   "execution_count": null,
   "metadata": {},
   "outputs": [],
   "source": [
    "def clicar_na_pasta(driver, nome_pasta):\n",
    "    \"\"\"\n",
    "    Clica na pasta especificada pelo título ou texto visível.\n",
    "    \"\"\"\n",
    "    try:\n",
    "        print(f\"Procurando pela pasta com o título: {nome_pasta} ...\")\n",
    "\n",
    "        # XPath atualizado para localizar pelo título ou texto visível\n",
    "        xpath = f\"//a[@title='{nome_pasta}' or text()='{nome_pasta}']\"\n",
    "\n",
    "        # Aguarda o carregamento da página e a presença do elemento\n",
    "        pasta_elemento = WebDriverWait(driver, 20).until(\n",
    "            EC.presence_of_element_located((By.XPATH, xpath))\n",
    "        )\n",
    "\n",
    "        # Aguarda até que o elemento seja clicável\n",
    "        WebDriverWait(driver, 10).until(EC.element_to_be_clickable((By.XPATH, xpath)))\n",
    "\n",
    "        # Role até o elemento e clique\n",
    "        driver.execute_script(\"arguments[0].scrollIntoView(true);\", pasta_elemento)\n",
    "        driver.execute_script(\"arguments[0].click();\", pasta_elemento)\n",
    "\n",
    "        # Aguarda o carregamento da nova página/pasta\n",
    "        WebDriverWait(driver, 20).until(\n",
    "            EC.presence_of_element_located((By.XPATH, \"//tr[contains(@class,'message')]\"))\n",
    "        )\n",
    "\n",
    "        print(f\"Pasta com o título '{nome_pasta}' acessada com sucesso.\")\n",
    "    except Exception as e:\n",
    "        print(f\"Erro ao acessar a pasta com o título '{nome_pasta}': {e}\")\n",
    "\n",
    "clicar_na_pasta(driver, \"xxx\")"
   ]
  },
  {
   "cell_type": "markdown",
   "metadata": {},
   "source": [
    "### Bloco 5: Processar emails do mês atual com anexos"
   ]
  },
  {
   "cell_type": "code",
   "execution_count": null,
   "metadata": {},
   "outputs": [],
   "source": [
    "def processar_e_baixar_emails_mes_corrente(driver):\n",
    "    \"\"\"\n",
    "    Processa os emails da pasta aberta, verifica se estão no mês atual, abre os emails e baixa os anexos.\n",
    "    \"\"\"\n",
    "    try:\n",
    "        print(\"Procurando emails do mês corrente com anexos...\")\n",
    "\n",
    "        # Obtém a data atual\n",
    "        hoje = datetime.datetime.now()\n",
    "        inicio_mes = hoje.replace(day=1)\n",
    "\n",
    "        # Localiza todos os emails na lista\n",
    "        emails = WebDriverWait(driver, 20).until(\n",
    "            EC.presence_of_all_elements_located((By.XPATH, \"//tr[contains(@class,'message')]\"))\n",
    "        )\n",
    "        print(f\"E-mails encontrados: {len(emails)}\")\n",
    "\n",
    "        for index, email in enumerate(emails):\n",
    "            try:\n",
    "                print(f\"Processando email {index + 1}/{len(emails)}...\")\n",
    "\n",
    "                # Verifica se o email contém anexo\n",
    "                tem_anexo = email.find_elements(By.XPATH, \".//span[@class='attachment' and @title='Com anexo']\")\n",
    "                if not tem_anexo:\n",
    "                    print(f\"Email {index + 1} não contém anexos. Pulando...\")\n",
    "                    continue\n",
    "\n",
    "                # Verifica se a data do email é do mês atual\n",
    "                try:\n",
    "                    data_element = email.find_element(By.XPATH, \".//span[contains(@class,'date')]\")\n",
    "                    data_texto = data_element.text.strip()\n",
    "                    print(f\"Data do email (texto bruto): {data_texto}\")\n",
    "                except Exception as e:\n",
    "                    print(f\"Erro ao localizar a data no email {index + 1}: {e}\")\n",
    "                    continue\n",
    "\n",
    "                data_email = interpretar_data_email(data_texto)\n",
    "                print(f\"Data convertida: {data_email}, Início do mês: {inicio_mes}, Hoje: {hoje}\")\n",
    "\n",
    "                if data_email is None or data_email < inicio_mes or data_email > hoje:\n",
    "                    print(f\"Email {index + 1} fora do intervalo do mês corrente. Pulando...\")\n",
    "                    continue\n",
    "\n",
    "                print(f\"Email válido encontrado: Data: {data_email}, contém anexo.\")\n",
    "\n",
    "                # Clica no email\n",
    "                print(f\"Tentando clicar no email {index + 1}...\")\n",
    "                driver.execute_script(\"arguments[0].scrollIntoView(true);\", email)\n",
    "                email.click()\n",
    "\n",
    "                # Aguarda a lista de anexos no email\n",
    "                WebDriverWait(driver, 20).until(\n",
    "                    EC.presence_of_element_located((By.XPATH, \"//ul[@id='attachment-list']\"))\n",
    "                )\n",
    "                print(f\"Email {index + 1} aberto com sucesso.\")\n",
    "\n",
    "                # Localiza os anexos e clica para baixar\n",
    "                anexos = driver.find_elements(By.XPATH, \"//ul[@id='attachment-list']//a[contains(@class, 'filename')]\")\n",
    "                if not anexos:\n",
    "                    print(f\"Não foram encontrados anexos no email {index + 1}.\")\n",
    "                    driver.back()\n",
    "                    continue\n",
    "\n",
    "                for anexo in anexos:\n",
    "                    print(f\"Baixando anexo: {anexo.text}\")\n",
    "                    anexo.click()\n",
    "                    time.sleep(3)  # Aguarda o download\n",
    "\n",
    "                # Volta para a lista de emails\n",
    "                driver.back()\n",
    "                print(f\"Retornando à lista de emails após processar o email {index + 1}...\")\n",
    "                WebDriverWait(driver, 10).until(\n",
    "                    EC.presence_of_all_elements_located((By.XPATH, \"//tr[contains(@class,'message')]\"))\n",
    "                )\n",
    "\n",
    "            except Exception as e:\n",
    "                print(f\"Erro ao processar email {index + 1}: {e}\")\n",
    "    except Exception as e:\n",
    "        print(f\"Erro ao verificar emails: {e}\")\n",
    "\n",
    "### Execução do processamento\n",
    "processar_e_baixar_emails_mes_corrente(driver)\n"
   ]
  }
 ],
 "metadata": {
  "kernelspec": {
   "display_name": "Python 3",
   "language": "python",
   "name": "python3"
  },
  "language_info": {
   "codemirror_mode": {
    "name": "ipython",
    "version": 3
   },
   "file_extension": ".py",
   "mimetype": "text/x-python",
   "name": "python",
   "nbconvert_exporter": "python",
   "pygments_lexer": "ipython3",
   "version": "3.12.0"
  }
 },
 "nbformat": 4,
 "nbformat_minor": 2
}
