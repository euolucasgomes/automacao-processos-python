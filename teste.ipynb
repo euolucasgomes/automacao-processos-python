{
 "cells": [
  {
   "cell_type": "markdown",
   "metadata": {},
   "source": [
    "### Bloco 1: Importação de bibliotecas"
   ]
  },
  {
   "cell_type": "code",
   "execution_count": null,
   "metadata": {},
   "outputs": [],
   "source": [
    "from selenium import webdriver\n",
    "from selenium.webdriver.chrome.service import Service\n",
    "from selenium.webdriver.chrome.options import Options\n",
    "from selenium.webdriver.common.by import By\n",
    "from selenium.webdriver.support.ui import WebDriverWait\n",
    "from selenium.webdriver.support import expected_conditions as EC\n",
    "from webdriver_manager.chrome import ChromeDriverManager\n",
    "import datetime\n",
    "import time\n",
    "\n",
    "print(\"Bibliotecas importadas com sucesso!\")"
   ]
  },
  {
   "cell_type": "markdown",
   "metadata": {},
   "source": [
    "### Bloco 2: Inicialização do WebDriver"
   ]
  },
  {
   "cell_type": "code",
   "execution_count": null,
   "metadata": {},
   "outputs": [],
   "source": [
    "options = Options()\n",
    "options.add_argument(\"--start-maximized\")  # Abre o navegador maximizado\n",
    "service = Service(ChromeDriverManager().install())  # Instala o driver automaticamente\n",
    "driver = webdriver.Chrome(service=service, options=options)\n",
    "print(\"WebDriver inicializado com sucesso!\")"
   ]
  },
  {
   "cell_type": "markdown",
   "metadata": {},
   "source": [
    "### Bloco 3: Função de login"
   ]
  },
  {
   "cell_type": "code",
   "execution_count": null,
   "metadata": {},
   "outputs": [],
   "source": [
    "import os\n",
    "\n",
    "def realizar_login(driver, email, password):\n",
    "    \"\"\"\n",
    "    Realiza o login no Hostinger Mail.\n",
    "    \"\"\"\n",
    "    try:\n",
    "        print(\"Abrindo a página de login...\")\n",
    "        driver.get(\"https://mail.hostinger.com\")\n",
    "\n",
    "        email_field = WebDriverWait(driver, 20).until(\n",
    "            EC.visibility_of_element_located((By.NAME, \"_user\"))\n",
    "        )\n",
    "        email_field.send_keys(email)\n",
    "\n",
    "        password_field = WebDriverWait(driver, 20).until(\n",
    "            EC.visibility_of_element_located((By.NAME, \"_pass\"))\n",
    "        )\n",
    "        password_field.send_keys(password)\n",
    "\n",
    "        login_button = WebDriverWait(driver, 20).until(\n",
    "            EC.element_to_be_clickable((By.XPATH, \"//button[@type='submit']\"))\n",
    "        )\n",
    "        login_button.click()\n",
    "\n",
    "        WebDriverWait(driver, 20).until(\n",
    "            EC.url_changes(\"https://mail.hostinger.com\")\n",
    "        )\n",
    "        print(\"Login realizado com sucesso!\")\n",
    "    except Exception as e:\n",
    "        print(f\"Erro durante o login: {e}\")\n",
    "\n",
    "# Pegue as credenciais do ambiente\n",
    "email = os.getenv(\"EMAIL\")\n",
    "password = os.getenv(\"PASSWORD\")\n",
    "\n",
    "realizar_login(driver, email, password)"
   ]
  },
  {
   "cell_type": "markdown",
   "metadata": {},
   "source": [
    "### Bloco 4: Função para clicar na pasta"
   ]
  },
  {
   "cell_type": "code",
   "execution_count": null,
   "metadata": {},
   "outputs": [],
   "source": [
    "def clicar_na_pasta(driver, nome_pasta):\n",
    "    \"\"\"\n",
    "    Clica na pasta especificada pelo título ou texto visível.\n",
    "    \"\"\"\n",
    "    try:\n",
    "        print(f\"Procurando pela pasta com o título: {nome_pasta} ...\")\n",
    "\n",
    "        # XPath atualizado para localizar pelo título ou texto visível\n",
    "        xpath = f\"//a[@title='{nome_pasta}' or text()='{nome_pasta}']\"\n",
    "\n",
    "        # Aguarda o carregamento da página e a presença do elemento\n",
    "        pasta_elemento = WebDriverWait(driver, 20).until(\n",
    "            EC.presence_of_element_located((By.XPATH, xpath))\n",
    "        )\n",
    "\n",
    "        # Aguarda até que o elemento seja clicável\n",
    "        WebDriverWait(driver, 10).until(EC.element_to_be_clickable((By.XPATH, xpath)))\n",
    "\n",
    "        # Role até o elemento e clique\n",
    "        driver.execute_script(\"arguments[0].scrollIntoView(true);\", pasta_elemento)\n",
    "        driver.execute_script(\"arguments[0].click();\", pasta_elemento)\n",
    "\n",
    "        # Aguarda o carregamento da nova página/pasta\n",
    "        WebDriverWait(driver, 20).until(\n",
    "            EC.presence_of_element_located((By.XPATH, \"//tr[contains(@class,'message')]\"))\n",
    "        )\n",
    "\n",
    "        print(f\"Pasta com o título '{nome_pasta}' acessada com sucesso.\")\n",
    "    except Exception as e:\n",
    "        print(f\"Erro ao acessar a pasta com o título '{nome_pasta}': {e}\")\n",
    "\n",
    "clicar_na_pasta(driver, \"00147 - ADVOCACIA MURILLO DE ARAGÃO\")"
   ]
  },
  {
   "cell_type": "markdown",
   "metadata": {},
   "source": [
    "### Bloco 5: Processar emails do mês atual com anexos"
   ]
  },
  {
   "cell_type": "code",
   "execution_count": null,
   "metadata": {},
   "outputs": [],
   "source": [
    "\n",
    "try:\n",
    "    tr_element = WebDriverWait(driver,20).until(\n",
    "        EC.element_to_be_clickable((By.XPATH,\"//tr[contains(@class, 'message')]\"))\n",
    "    )\n",
    "\n",
    "    driver.execute_script(\"arguments[0].scrollIntoView(true);\",tr_element)\n",
    "\n",
    "    tr_element.click()\n",
    "    print(\"Elemento clicado com sucesso!\")\n",
    "except Exception as e:\n",
    "    print(f\"Erro ao clicar no elemento: {e}\")"
   ]
  }
 ],
 "metadata": {
  "kernelspec": {
   "display_name": "Python 3",
   "language": "python",
   "name": "python3"
  },
  "language_info": {
   "codemirror_mode": {
    "name": "ipython",
    "version": 3
   },
   "file_extension": ".py",
   "mimetype": "text/x-python",
   "name": "python",
   "nbconvert_exporter": "python",
   "pygments_lexer": "ipython3",
   "version": "3.12.6"
  }
 },
 "nbformat": 4,
 "nbformat_minor": 2
}
